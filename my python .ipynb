{
 "cells": [
  {
   "cell_type": "markdown",
   "id": "ccad0dc8",
   "metadata": {},
   "source": [
    "# python fundamentals"
   ]
  },
  {
   "cell_type": "markdown",
   "id": "1b5c2420",
   "metadata": {},
   "source": [
    "## imp tips\n"
   ]
  },
  {
   "cell_type": "code",
   "execution_count": 1,
   "id": "3efc04e7",
   "metadata": {},
   "outputs": [],
   "source": [
    "mine=\"PYthon\""
   ]
  },
  {
   "cell_type": "code",
   "execution_count": 2,
   "id": "be4fc484",
   "metadata": {},
   "outputs": [
    {
     "name": "stdout",
     "output_type": "stream",
     "text": [
      "mine\n"
     ]
    }
   ],
   "source": [
    "print('mine')"
   ]
  },
  {
   "cell_type": "code",
   "execution_count": 4,
   "id": "128d650d",
   "metadata": {},
   "outputs": [
    {
     "name": "stdout",
     "output_type": "stream",
     "text": [
      "PYTHON\n"
     ]
    }
   ],
   "source": [
    "print(mine.upper())"
   ]
  },
  {
   "cell_type": "code",
   "execution_count": 5,
   "id": "8146463d",
   "metadata": {},
   "outputs": [
    {
     "name": "stdout",
     "output_type": "stream",
     "text": [
      "python\n"
     ]
    }
   ],
   "source": [
    "print(mine.lower())"
   ]
  },
  {
   "cell_type": "code",
   "execution_count": 7,
   "id": "4d460b71",
   "metadata": {},
   "outputs": [
    {
     "name": "stdout",
     "output_type": "stream",
     "text": [
      "                                PYthon                                \n"
     ]
    }
   ],
   "source": [
    "print(mine.center(70))"
   ]
  },
  {
   "cell_type": "code",
   "execution_count": 8,
   "id": "82d25725",
   "metadata": {},
   "outputs": [
    {
     "name": "stdout",
     "output_type": "stream",
     "text": [
      "pyTHON\n"
     ]
    }
   ],
   "source": [
    "print(mine.swapcase())"
   ]
  },
  {
   "cell_type": "code",
   "execution_count": 9,
   "id": "935bdadc",
   "metadata": {},
   "outputs": [],
   "source": [
    "sentence=\"anu is the  topper of the class\"\n"
   ]
  },
  {
   "cell_type": "code",
   "execution_count": 11,
   "id": "70f8b229",
   "metadata": {},
   "outputs": [
    {
     "name": "stdout",
     "output_type": "stream",
     "text": [
      "the number of sub are: 2\n"
     ]
    }
   ],
   "source": [
    "sub= 'a'\n",
    "count= sentence.count(substring)\n",
    "print(\"the number of sub are:\",count)"
   ]
  },
  {
   "cell_type": "code",
   "execution_count": 15,
   "id": "aaa8057e",
   "metadata": {},
   "outputs": [
    {
     "name": "stdout",
     "output_type": "stream",
     "text": [
      "the number of alphas is: 2\n"
     ]
    }
   ],
   "source": [
    "sentence2= \"I love eatiing fast food,I mostly like noodles\"\n",
    "alphas='I'\n",
    "count= sentence2.count(alphas)\n",
    "print(\"the number of alphas is:\", count)"
   ]
  },
  {
   "cell_type": "markdown",
   "id": "169510b0",
   "metadata": {},
   "source": [
    "### count=variablename.count(substring)"
   ]
  },
  {
   "cell_type": "markdown",
   "id": "d6d63b5d",
   "metadata": {},
   "source": [
    "### variablename.upper()"
   ]
  },
  {
   "cell_type": "code",
   "execution_count": 25,
   "id": "1aa4aef9",
   "metadata": {},
   "outputs": [
    {
     "name": "stdout",
     "output_type": "stream",
     "text": [
      "the number of t from alphabet 2 to 12 are: 1\n"
     ]
    }
   ],
   "source": [
    "sentence3= \"Iloveeattti fasgt food,I mostly like noodles\"\n",
    "substing= 't'\n",
    "count= sentence3.count(substring , 1 ,12)\n",
    "print(\"the number of t from alphabet 2 to 12 are:\",count)"
   ]
  },
  {
   "cell_type": "code",
   "execution_count": null,
   "id": "de92a31d",
   "metadata": {},
   "outputs": [],
   "source": []
  },
  {
   "cell_type": "code",
   "execution_count": null,
   "id": "b35eb892",
   "metadata": {},
   "outputs": [],
   "source": []
  },
  {
   "cell_type": "code",
   "execution_count": 2,
   "id": "c4c2fe29",
   "metadata": {},
   "outputs": [],
   "source": [
    "k=10\n",
    "while k<10:\n",
    "     print('anu')\n",
    "     k=k+1\n"
   ]
  },
  {
   "cell_type": "code",
   "execution_count": 9,
   "id": "cfe13ea1",
   "metadata": {},
   "outputs": [
    {
     "name": "stdout",
     "output_type": "stream",
     "text": [
      "anu\n",
      "anu\n",
      "anu\n",
      "anu\n",
      "anu\n"
     ]
    }
   ],
   "source": [
    "k=5\n",
    "while k<10:\n",
    "     print('anu')\n",
    "     k=k+1\n"
   ]
  },
  {
   "cell_type": "code",
   "execution_count": 12,
   "id": "27e4c692",
   "metadata": {},
   "outputs": [
    {
     "name": "stdout",
     "output_type": "stream",
     "text": [
      "anu\n",
      "anu\n",
      "deepika\n"
     ]
    }
   ],
   "source": [
    "i=5\n",
    "j=6\n",
    "while i<7:\n",
    "    print('anu')\n",
    "    i=i+1\n",
    "while j<7:\n",
    "    print('deepika')\n",
    "    j=j+1\n",
    "    "
   ]
  },
  {
   "cell_type": "code",
   "execution_count": 14,
   "id": "61ac9167",
   "metadata": {},
   "outputs": [
    {
     "ename": "SyntaxError",
     "evalue": "invalid syntax (Temp/ipykernel_16248/2861476782.py, line 2)",
     "output_type": "error",
     "traceback": [
      "\u001b[1;36m  File \u001b[1;32m\"C:\\Users\\ANUDEE~1\\AppData\\Local\\Temp/ipykernel_16248/2861476782.py\"\u001b[1;36m, line \u001b[1;32m2\u001b[0m\n\u001b[1;33m    do{\u001b[0m\n\u001b[1;37m      ^\u001b[0m\n\u001b[1;31mSyntaxError\u001b[0m\u001b[1;31m:\u001b[0m invalid syntax\n"
     ]
    }
   ],
   "source": [
    "i=1;\n",
    "do{\n",
    "    print('hello'):\n",
    "    i=i+1\n",
    "}while(i<6):\n"
   ]
  },
  {
   "cell_type": "markdown",
   "id": "ab7e1b93",
   "metadata": {},
   "source": [
    "## conditional stmt\n"
   ]
  },
  {
   "cell_type": "code",
   "execution_count": 2,
   "id": "87b6549d",
   "metadata": {},
   "outputs": [
    {
     "data": {
      "text/plain": [
       "'false'"
      ]
     },
     "execution_count": 2,
     "metadata": {},
     "output_type": "execute_result"
    }
   ],
   "source": [
    "def multiple(number):\n",
    "    if number%3==0:\n",
    "        return \"true\"\n",
    "    else:\n",
    "        return \"false\"\n",
    "multiple(5)"
   ]
  },
  {
   "cell_type": "code",
   "execution_count": 13,
   "id": "bd823e8f",
   "metadata": {},
   "outputs": [
    {
     "name": "stdout",
     "output_type": "stream",
     "text": [
      "7\n"
     ]
    }
   ],
   "source": [
    "def the(number,by):\n",
    "    return  number + by\n",
    "   \n",
    "result=the(3,4)\n",
    "print(result)\n"
   ]
  },
  {
   "cell_type": "code",
   "execution_count": 15,
   "id": "dac2c3b1",
   "metadata": {},
   "outputs": [
    {
     "data": {
      "text/plain": [
       "2"
      ]
     },
     "execution_count": 15,
     "metadata": {},
     "output_type": "execute_result"
    }
   ],
   "source": [
    "def three(number):\n",
    "    \n",
    "    if number%3==0:\n",
    "        print('number divisible by three') \n",
    "    else:\n",
    "        return number%3\n",
    "    \n",
    "three(5)"
   ]
  },
  {
   "cell_type": "code",
   "execution_count": 17,
   "id": "0043b5a9",
   "metadata": {},
   "outputs": [
    {
     "data": {
      "text/plain": [
       "7"
      ]
     },
     "execution_count": 17,
     "metadata": {},
     "output_type": "execute_result"
    }
   ],
   "source": [
    "def max(num1,num2):\n",
    "    if(num1>num2):\n",
    "        print('num1 is greater')\n",
    "    else:\n",
    "        return num2\n",
    "max(4,7)"
   ]
  },
  {
   "cell_type": "code",
   "execution_count": 1,
   "id": "04404871",
   "metadata": {},
   "outputs": [
    {
     "name": "stdout",
     "output_type": "stream",
     "text": [
      "6\n",
      "the number is divisible by 3\n",
      "None\n"
     ]
    }
   ],
   "source": [
    "def divisor(number):\n",
    "    if(number%3==0):\n",
    "        print( 'the number is divisible by 3')\n",
    "    else:\n",
    "        remainder=number%3\n",
    "        print('the number is not divisible by 3',remainder)\n",
    "res=divisor(int(input()))\n",
    "print(res)"
   ]
  },
  {
   "cell_type": "code",
   "execution_count": 2,
   "id": "c45442f5",
   "metadata": {},
   "outputs": [
    {
     "name": "stdout",
     "output_type": "stream",
     "text": [
      "anu d\n",
      "5\n"
     ]
    }
   ],
   "source": [
    "def char(str):\n",
    "    return(len(str))\n",
    "res=char(input())\n",
    "print(res)\n"
   ]
  },
  {
   "cell_type": "code",
   "execution_count": 7,
   "id": "c009e65e",
   "metadata": {},
   "outputs": [
    {
     "name": "stdout",
     "output_type": "stream",
     "text": [
      "anudeepika wanted to be a good chess player\n",
      "reyalp ssehc doog a eb ot detnaw akipeeduna\n"
     ]
    }
   ],
   "source": [
    "def char(str):\n",
    "    return str[::-1]\n",
    "res=char(input())\n",
    "print(res)"
   ]
  },
  {
   "cell_type": "code",
   "execution_count": null,
   "id": "d5153df9",
   "metadata": {},
   "outputs": [],
   "source": []
  }
 ],
 "metadata": {
  "kernelspec": {
   "display_name": "Python 3 (ipykernel)",
   "language": "python",
   "name": "python3"
  },
  "language_info": {
   "codemirror_mode": {
    "name": "ipython",
    "version": 3
   },
   "file_extension": ".py",
   "mimetype": "text/x-python",
   "name": "python",
   "nbconvert_exporter": "python",
   "pygments_lexer": "ipython3",
   "version": "3.9.7"
  }
 },
 "nbformat": 4,
 "nbformat_minor": 5
}
